{
 "cells": [
  {
   "cell_type": "code",
   "execution_count": 2,
   "id": "32a9ccdf-7fd8-42ac-96af-c6674a90d603",
   "metadata": {},
   "outputs": [],
   "source": [
    "import torch\n",
    "import torch.nn as nn\n",
    "import torch.nn.functional as F\n",
    "import torch.optim as optim\n",
    "from torch.utils.data import TensorDataset, DataLoader\n",
    "\n",
    "import time, json, datetime \n",
    "from tqdm import tqdm\n",
    "\n",
    "import numpy as np \n",
    "import pandas as pd \n",
    "from sklearn.metrics import log_loss, roc_auc_score\n",
    "from sklearn.model_selection import train_test_split\n",
    "from sklearn.preprocessing import LabelEncoder\n",
    "\n",
    "pd.set_option('display.max_rows', 500)\n",
    "pd.set_option('display.max_columns', 500)"
   ]
  },
  {
   "cell_type": "code",
   "execution_count": 3,
   "id": "9d6f8e70-af70-495a-b304-c6e22c781036",
   "metadata": {},
   "outputs": [
    {
     "data": {
      "text/plain": [
       "'1.10.1+cu102'"
      ]
     },
     "execution_count": 3,
     "metadata": {},
     "output_type": "execute_result"
    }
   ],
   "source": [
    "torch.__version__"
   ]
  },
  {
   "cell_type": "code",
   "execution_count": 4,
   "id": "4c412d44-8503-4da9-8e70-ef2fcc635b67",
   "metadata": {},
   "outputs": [],
   "source": [
    "class DeepFM(nn.Module):\n",
    "    def __init__(self, sparse_feat_nuniques, emb_size=8, hid_dims=[256, 128], num_classes=1, dropout=[0.2, 0.2]):\n",
    "        '''\n",
    "        # sparse_feat_uuniques: a list containing voc_size of each sparse feature\n",
    "        '''\n",
    "        super().__init__()\n",
    "        self.sparse_feat_size = len(sparse_feat_nuniques) \n",
    "        '''FM module'''\n",
    "        # first-order representation\n",
    "        self.fm_1st_order_sparse_emb = nn.ModuleList([nn.Embedding(voc_size, 1) for voc_size in sparse_feat_nuniques])\n",
    "        # second-order representation\n",
    "        self.fm_2nd_order_sparse_emb = nn.ModuleList([nn.Embedding(voc_size, emb_size) for voc_size in sparse_feat_nuniques])\n",
    "        '''DNN module'''\n",
    "        self.all_dims = [self.sparse_feat_size * emb_size] + hid_dims\n",
    "        self.dnn_linear_list = nn.ModuleList()\n",
    "        for i in range(1, len(self.all_dims)):\n",
    "            self.dnn_linear_list.append(nn.Sequential(\n",
    "                nn.Linear(self.all_dims[i-1], self.all_dims[i]),\n",
    "                nn.BatchNorm1d(self.all_dims[i]),\n",
    "                nn.ReLU(),\n",
    "                nn.Dropout(dropout[i-1])\n",
    "            ))\n",
    "        self.dnn_linear_list.append(nn.Linear(hid_dims[-1], num_classes))\n",
    "        self.sigmoid = nn.Sigmoid()\n",
    "        \n",
    "    def forward(self, X_sparse):\n",
    "        '''FM module'''\n",
    "        # first-order\n",
    "        fm_1st_sparse_res = [emb(X_sparse[:, i]) for i, emb in enumerate(self.fm_1st_order_sparse_emb)]\n",
    "        fm_1st_sparse_res = torch.cat(fm_1st_sparse_res, dim=1)  # [bs, sparse_feat_size]\n",
    "        fm_1st_part = torch.sum(fm_1st_sparse_res, 1,  keepdim=True)  # [bs, 1]\n",
    "        # second-order\n",
    "        fm_2nd_order_res = [emb(X_sparse[:, i].unsqueeze(1)) for i, emb in enumerate(self.fm_2nd_order_sparse_emb)]\n",
    "        fm_2nd_concat_1d = torch.cat(fm_2nd_order_res, dim=1)  # [bs, n, emb_size]  (n=sparse_feat_size)\n",
    "        sum_embed = torch.sum(fm_2nd_concat_1d, 1)  # [bs, emb_size]\n",
    "        square_sum_embed = sum_embed * sum_embed    # [bs, emb_size]\n",
    "        square_embed = fm_2nd_concat_1d * fm_2nd_concat_1d  # [bs, n, emb_size]\n",
    "        sum_square_embed = torch.sum(square_embed, 1)  # [bs, emb_size]\n",
    "        sub = square_sum_embed - sum_square_embed  \n",
    "        sub = sub * 0.5   # [bs, emb_size]\n",
    "        fm_2nd_part = torch.sum(sub, 1, keepdim=True)   # [bs, 1]\n",
    "        '''dnn module'''\n",
    "        dnn_out = torch.flatten(fm_2nd_concat_1d, 1)\n",
    "        for linear in self.dnn_linear_list:\n",
    "            dnn_out = linear(dnn_out)\n",
    "        out = fm_1st_part + fm_2nd_part + dnn_out\n",
    "        out = self.sigmoid(out)\n",
    "        return out"
   ]
  },
  {
   "cell_type": "code",
   "execution_count": 5,
   "id": "d0038459-15ad-4537-b501-c81cf7e45e27",
   "metadata": {},
   "outputs": [
    {
     "name": "stdout",
     "output_type": "stream",
     "text": [
      "train： (700146, 9)\n",
      "test: (300063, 9)\n"
     ]
    }
   ],
   "source": [
    "data = pd.read_pickle('data/ml-1m.pkl')\n",
    "\n",
    "feat_col = ['userId', 'gender', 'age', 'occupation', 'movieId', 'year']\n",
    "label_col = 'rating'\n",
    "\n",
    "train, test = train_test_split(data, test_size=0.3, random_state=20220316)\n",
    "print('train：', train.shape)\n",
    "print('test:', test.shape)"
   ]
  },
  {
   "cell_type": "code",
   "execution_count": 6,
   "id": "4d8caa44-c00d-4525-91a9-62c9b076ab8f",
   "metadata": {},
   "outputs": [
    {
     "data": {
      "text/html": [
       "<div>\n",
       "<style scoped>\n",
       "    .dataframe tbody tr th:only-of-type {\n",
       "        vertical-align: middle;\n",
       "    }\n",
       "\n",
       "    .dataframe tbody tr th {\n",
       "        vertical-align: top;\n",
       "    }\n",
       "\n",
       "    .dataframe thead th {\n",
       "        text-align: right;\n",
       "    }\n",
       "</style>\n",
       "<table border=\"1\" class=\"dataframe\">\n",
       "  <thead>\n",
       "    <tr style=\"text-align: right;\">\n",
       "      <th></th>\n",
       "      <th>userId</th>\n",
       "      <th>gender</th>\n",
       "      <th>age</th>\n",
       "      <th>occupation</th>\n",
       "      <th>movieId</th>\n",
       "      <th>rating</th>\n",
       "      <th>title</th>\n",
       "      <th>genres</th>\n",
       "      <th>year</th>\n",
       "    </tr>\n",
       "  </thead>\n",
       "  <tbody>\n",
       "    <tr>\n",
       "      <th>0</th>\n",
       "      <td>0</td>\n",
       "      <td>0</td>\n",
       "      <td>0</td>\n",
       "      <td>10</td>\n",
       "      <td>1104</td>\n",
       "      <td>1</td>\n",
       "      <td>[1, 176, 1050, 2409, 2410, 0, 0, 0]</td>\n",
       "      <td>[2]</td>\n",
       "      <td>76</td>\n",
       "    </tr>\n",
       "    <tr>\n",
       "      <th>1</th>\n",
       "      <td>1</td>\n",
       "      <td>1</td>\n",
       "      <td>6</td>\n",
       "      <td>16</td>\n",
       "      <td>1104</td>\n",
       "      <td>1</td>\n",
       "      <td>[1, 176, 1050, 2409, 2410, 0, 0, 0]</td>\n",
       "      <td>[2]</td>\n",
       "      <td>76</td>\n",
       "    </tr>\n",
       "    <tr>\n",
       "      <th>2</th>\n",
       "      <td>11</td>\n",
       "      <td>1</td>\n",
       "      <td>2</td>\n",
       "      <td>12</td>\n",
       "      <td>1104</td>\n",
       "      <td>1</td>\n",
       "      <td>[1, 176, 1050, 2409, 2410, 0, 0, 0]</td>\n",
       "      <td>[2]</td>\n",
       "      <td>76</td>\n",
       "    </tr>\n",
       "    <tr>\n",
       "      <th>3</th>\n",
       "      <td>14</td>\n",
       "      <td>1</td>\n",
       "      <td>2</td>\n",
       "      <td>7</td>\n",
       "      <td>1104</td>\n",
       "      <td>1</td>\n",
       "      <td>[1, 176, 1050, 2409, 2410, 0, 0, 0]</td>\n",
       "      <td>[2]</td>\n",
       "      <td>76</td>\n",
       "    </tr>\n",
       "    <tr>\n",
       "      <th>4</th>\n",
       "      <td>16</td>\n",
       "      <td>1</td>\n",
       "      <td>5</td>\n",
       "      <td>1</td>\n",
       "      <td>1104</td>\n",
       "      <td>1</td>\n",
       "      <td>[1, 176, 1050, 2409, 2410, 0, 0, 0]</td>\n",
       "      <td>[2]</td>\n",
       "      <td>76</td>\n",
       "    </tr>\n",
       "    <tr>\n",
       "      <th>...</th>\n",
       "      <td>...</td>\n",
       "      <td>...</td>\n",
       "      <td>...</td>\n",
       "      <td>...</td>\n",
       "      <td>...</td>\n",
       "      <td>...</td>\n",
       "      <td>...</td>\n",
       "      <td>...</td>\n",
       "      <td>...</td>\n",
       "    </tr>\n",
       "    <tr>\n",
       "      <th>1000204</th>\n",
       "      <td>5948</td>\n",
       "      <td>1</td>\n",
       "      <td>1</td>\n",
       "      <td>17</td>\n",
       "      <td>2017</td>\n",
       "      <td>1</td>\n",
       "      <td>[54, 321, 171, 0, 0, 0, 0, 0]</td>\n",
       "      <td>[2, 0]</td>\n",
       "      <td>65</td>\n",
       "    </tr>\n",
       "    <tr>\n",
       "      <th>1000205</th>\n",
       "      <td>5674</td>\n",
       "      <td>1</td>\n",
       "      <td>3</td>\n",
       "      <td>14</td>\n",
       "      <td>2498</td>\n",
       "      <td>0</td>\n",
       "      <td>[3605, 0, 0, 0, 0, 0, 0, 0]</td>\n",
       "      <td>[15]</td>\n",
       "      <td>79</td>\n",
       "    </tr>\n",
       "    <tr>\n",
       "      <th>1000206</th>\n",
       "      <td>5779</td>\n",
       "      <td>1</td>\n",
       "      <td>1</td>\n",
       "      <td>17</td>\n",
       "      <td>2638</td>\n",
       "      <td>0</td>\n",
       "      <td>[3757, 252, 0, 0, 0, 0, 0, 0]</td>\n",
       "      <td>[11]</td>\n",
       "      <td>79</td>\n",
       "    </tr>\n",
       "    <tr>\n",
       "      <th>1000207</th>\n",
       "      <td>5850</td>\n",
       "      <td>0</td>\n",
       "      <td>1</td>\n",
       "      <td>20</td>\n",
       "      <td>3367</td>\n",
       "      <td>1</td>\n",
       "      <td>[4470, 97, 0, 0, 0, 0, 0, 0]</td>\n",
       "      <td>[2, 7]</td>\n",
       "      <td>71</td>\n",
       "    </tr>\n",
       "    <tr>\n",
       "      <th>1000208</th>\n",
       "      <td>5937</td>\n",
       "      <td>1</td>\n",
       "      <td>2</td>\n",
       "      <td>1</td>\n",
       "      <td>2702</td>\n",
       "      <td>1</td>\n",
       "      <td>[3810, 491, 0, 0, 0, 0, 0, 0]</td>\n",
       "      <td>[2]</td>\n",
       "      <td>79</td>\n",
       "    </tr>\n",
       "  </tbody>\n",
       "</table>\n",
       "<p>1000209 rows × 9 columns</p>\n",
       "</div>"
      ],
      "text/plain": [
       "         userId  gender  age  occupation  movieId  rating  \\\n",
       "0             0       0    0          10     1104       1   \n",
       "1             1       1    6          16     1104       1   \n",
       "2            11       1    2          12     1104       1   \n",
       "3            14       1    2           7     1104       1   \n",
       "4            16       1    5           1     1104       1   \n",
       "...         ...     ...  ...         ...      ...     ...   \n",
       "1000204    5948       1    1          17     2017       1   \n",
       "1000205    5674       1    3          14     2498       0   \n",
       "1000206    5779       1    1          17     2638       0   \n",
       "1000207    5850       0    1          20     3367       1   \n",
       "1000208    5937       1    2           1     2702       1   \n",
       "\n",
       "                                       title  genres  year  \n",
       "0        [1, 176, 1050, 2409, 2410, 0, 0, 0]     [2]    76  \n",
       "1        [1, 176, 1050, 2409, 2410, 0, 0, 0]     [2]    76  \n",
       "2        [1, 176, 1050, 2409, 2410, 0, 0, 0]     [2]    76  \n",
       "3        [1, 176, 1050, 2409, 2410, 0, 0, 0]     [2]    76  \n",
       "4        [1, 176, 1050, 2409, 2410, 0, 0, 0]     [2]    76  \n",
       "...                                      ...     ...   ...  \n",
       "1000204        [54, 321, 171, 0, 0, 0, 0, 0]  [2, 0]    65  \n",
       "1000205          [3605, 0, 0, 0, 0, 0, 0, 0]    [15]    79  \n",
       "1000206        [3757, 252, 0, 0, 0, 0, 0, 0]    [11]    79  \n",
       "1000207         [4470, 97, 0, 0, 0, 0, 0, 0]  [2, 7]    71  \n",
       "1000208        [3810, 491, 0, 0, 0, 0, 0, 0]     [2]    79  \n",
       "\n",
       "[1000209 rows x 9 columns]"
      ]
     },
     "execution_count": 6,
     "metadata": {},
     "output_type": "execute_result"
    }
   ],
   "source": [
    "data"
   ]
  },
  {
   "cell_type": "code",
   "execution_count": 7,
   "id": "3a535ee0-dfec-41bb-9691-33fd02bc6fbf",
   "metadata": {},
   "outputs": [],
   "source": [
    "train_dataset = TensorDataset(torch.LongTensor(train[feat_col].values),\n",
    "                              torch.FloatTensor(train[label_col].values), )\n",
    "test_dataset = TensorDataset(torch.LongTensor(test[feat_col].values),\n",
    "                             torch.LongTensor(test[label_col].values),)\n",
    "\n",
    "train_loader = DataLoader(dataset=train_dataset, batch_size=2048, shuffle=True)\n",
    "test_loader = DataLoader(dataset=test_dataset, batch_size=4096, shuffle=False)"
   ]
  },
  {
   "cell_type": "code",
   "execution_count": 8,
   "id": "15229a53-a879-4f7c-bd0f-57e63bb7a8c8",
   "metadata": {},
   "outputs": [
    {
     "data": {
      "text/plain": [
       "DeepFM(\n",
       "  (fm_1st_order_sparse_emb): ModuleList(\n",
       "    (0): Embedding(6040, 1)\n",
       "    (1): Embedding(2, 1)\n",
       "    (2): Embedding(7, 1)\n",
       "    (3): Embedding(21, 1)\n",
       "    (4): Embedding(3706, 1)\n",
       "    (5): Embedding(81, 1)\n",
       "  )\n",
       "  (fm_2nd_order_sparse_emb): ModuleList(\n",
       "    (0): Embedding(6040, 8)\n",
       "    (1): Embedding(2, 8)\n",
       "    (2): Embedding(7, 8)\n",
       "    (3): Embedding(21, 8)\n",
       "    (4): Embedding(3706, 8)\n",
       "    (5): Embedding(81, 8)\n",
       "  )\n",
       "  (dnn_linear_list): ModuleList(\n",
       "    (0): Sequential(\n",
       "      (0): Linear(in_features=48, out_features=256, bias=True)\n",
       "      (1): BatchNorm1d(256, eps=1e-05, momentum=0.1, affine=True, track_running_stats=True)\n",
       "      (2): ReLU()\n",
       "      (3): Dropout(p=0.2, inplace=False)\n",
       "    )\n",
       "    (1): Sequential(\n",
       "      (0): Linear(in_features=256, out_features=128, bias=True)\n",
       "      (1): BatchNorm1d(128, eps=1e-05, momentum=0.1, affine=True, track_running_stats=True)\n",
       "      (2): ReLU()\n",
       "      (3): Dropout(p=0.2, inplace=False)\n",
       "    )\n",
       "    (2): Linear(in_features=128, out_features=1, bias=True)\n",
       "  )\n",
       "  (sigmoid): Sigmoid()\n",
       ")"
      ]
     },
     "execution_count": 8,
     "metadata": {},
     "output_type": "execute_result"
    }
   ],
   "source": [
    "device = torch.device('cuda') if torch.cuda.is_available() else torch.device('cpu')\n",
    "\n",
    "feat_nuniques = [data[f].nunique() for f in feat_col]\n",
    "\n",
    "model = DeepFM(feat_nuniques)\n",
    "model.to(device)"
   ]
  },
  {
   "cell_type": "code",
   "execution_count": 9,
   "id": "6009b1ac-1cc1-4fad-96f1-4e873e108076",
   "metadata": {},
   "outputs": [
    {
     "data": {
      "text/plain": [
       "0             0\n",
       "1             1\n",
       "2            11\n",
       "3            14\n",
       "4            16\n",
       "           ... \n",
       "1000204    5948\n",
       "1000205    5674\n",
       "1000206    5779\n",
       "1000207    5850\n",
       "1000208    5937\n",
       "Name: userId, Length: 1000209, dtype: int64"
      ]
     },
     "execution_count": 9,
     "metadata": {},
     "output_type": "execute_result"
    }
   ],
   "source": [
    "data['userId']"
   ]
  },
  {
   "cell_type": "code",
   "execution_count": 10,
   "id": "88cc3b9b-b29a-4861-9f5b-bb04de86dd8b",
   "metadata": {},
   "outputs": [],
   "source": [
    "loss = nn.BCELoss() # Binary Cross Entropy Loss\n",
    "loss = loss.to(device)\n",
    "\n",
    "optimizer = optim.Adam(model.parameters(), lr=0.005, weight_decay=0.0001)\n",
    "scheduler = torch.optim.lr_scheduler.StepLR(optimizer, step_size=1, gamma=0.8)\n",
    "\n",
    "total = sum([param.nelement() for param in model.parameters()])\n",
    "trainable = sum([param.nelement() for param in model.parameters() if param.requires_grad])\n",
    "print({'Total': total, 'Trainable': trainable})"
   ]
  },
  {
   "cell_type": "code",
   "execution_count": 13,
   "id": "1be5b49f-123c-4075-9f2f-31680111f073",
   "metadata": {},
   "outputs": [],
   "source": [
    "def print_info(info):\n",
    "    t0 = datetime.datetime.now().strftime('%H:%M:%S')\n",
    "    info = '{} : {}'.format(t0, info)\n",
    "    print(info)"
   ]
  },
  {
   "cell_type": "code",
   "execution_count": 14,
   "id": "b230b1c0-1c21-4280-a672-eefa7bf6ce01",
   "metadata": {},
   "outputs": [],
   "source": [
    "def train_and_test(model, train_loader, test_loader, epochs, device):\n",
    "    best_auc = 0.0\n",
    "    for epoch in range(epochs):\n",
    "        '''training process'''\n",
    "        model.train()\n",
    "        print(\"Current lr : {}\".format(optimizer.state_dict()['param_groups'][0]['lr']))\n",
    "        train_loss_sum = 0.0\n",
    "        start_time = time.time()\n",
    "        for idx, x in enumerate(train_loader):\n",
    "            features, label = x[0], x[1]\n",
    "            features, label = features.to(device), label.float().to(device)\n",
    "            pred = model(features).view(-1)\n",
    "            l = loss(pred, label)\n",
    "            optimizer.zero_grad()\n",
    "            l.backward()\n",
    "            optimizer.step()\n",
    "            \n",
    "            train_loss_sum += l.cpu().item()\n",
    "            if (idx+1) % 50 == 0 or (idx + 1) == len(train_loader):\n",
    "                \n",
    "                info = 'Epoch: {:04d} | Step: {:04d} / {} | Loss: {:.4f} | Time: {:.4f}'.format(\n",
    "                          epoch+1, idx+1, len(train_loader), train_loss_sum/(idx+1), time.time() - start_time)\n",
    "                print_info(info)     \n",
    "            \n",
    "        scheduler.step()\n",
    "        \n",
    "        '''inference process'''\n",
    "        model.eval()\n",
    "        with torch.no_grad():\n",
    "            test_labels, test_preds = [], []\n",
    "            for idx, x in tqdm(enumerate(test_loader)):\n",
    "                features, label = x[0], x[1]\n",
    "                features = features.to(device)\n",
    "                pred = model(features).view(-1).data.cpu().numpy().tolist()\n",
    "                test_preds.extend(pred)\n",
    "                test_labels.extend(label.cpu().numpy().tolist())\n",
    "        cur_auc = roc_auc_score(test_labels, test_preds)\n",
    "        if cur_auc > best_auc:\n",
    "            best_auc = cur_auc\n",
    "            torch.save(model.state_dict(), 'deep_fm_ml_1m.pth')   \n",
    "        info = 'Current AUC: {:.6f}, Best AUC: {:.6f}\\n'.format(cur_auc, best_auc)\n",
    "        print_info(info)"
   ]
  },
  {
   "cell_type": "code",
   "execution_count": 15,
   "id": "8106a57d-e0aa-4a91-ac85-ffd363fd4cce",
   "metadata": {},
   "outputs": [
    {
     "data": {
      "text/plain": [
       "4.649162292480469e-05"
      ]
     },
     "execution_count": 15,
     "metadata": {},
     "output_type": "execute_result"
    }
   ],
   "source": [
    "start_time = time.time()\n",
    "time.time() - start_time"
   ]
  },
  {
   "cell_type": "code",
   "execution_count": 16,
   "id": "21083e35-48ac-4977-b019-622ec4823b27",
   "metadata": {},
   "outputs": [
    {
     "name": "stdout",
     "output_type": "stream",
     "text": [
      "Current lr : 0.005\n",
      "17:11:11 : Epoch: 0001 | Step: 0050 / 342 | Loss: 3.2003 | Time: 1.6384\n",
      "17:11:13 : Epoch: 0001 | Step: 0100 / 342 | Loss: 2.2415 | Time: 3.0782\n",
      "17:11:14 : Epoch: 0001 | Step: 0150 / 342 | Loss: 1.8413 | Time: 4.5536\n",
      "17:11:16 : Epoch: 0001 | Step: 0200 / 342 | Loss: 1.6084 | Time: 5.9464\n",
      "17:11:17 : Epoch: 0001 | Step: 0250 / 342 | Loss: 1.4497 | Time: 7.3352\n",
      "17:11:19 : Epoch: 0001 | Step: 0300 / 342 | Loss: 1.3329 | Time: 8.7391\n"
     ]
    },
    {
     "name": "stderr",
     "output_type": "stream",
     "text": [
      "2it [00:00, 15.45it/s]"
     ]
    },
    {
     "name": "stdout",
     "output_type": "stream",
     "text": [
      "17:11:20 : Epoch: 0001 | Step: 0342 / 342 | Loss: 1.2560 | Time: 9.9240\n"
     ]
    },
    {
     "name": "stderr",
     "output_type": "stream",
     "text": [
      "74it [00:03, 23.35it/s]\n"
     ]
    },
    {
     "name": "stdout",
     "output_type": "stream",
     "text": [
      "17:11:23 : Current AUC: 0.691352, Best AUC: 0.691352\n",
      "\n",
      "Current lr : 0.004\n",
      "17:11:25 : Epoch: 0002 | Step: 0050 / 342 | Loss: 0.6655 | Time: 1.4822\n",
      "17:11:26 : Epoch: 0002 | Step: 0100 / 342 | Loss: 0.6541 | Time: 3.0880\n",
      "17:11:28 : Epoch: 0002 | Step: 0150 / 342 | Loss: 0.6448 | Time: 4.4736\n",
      "17:11:29 : Epoch: 0002 | Step: 0200 / 342 | Loss: 0.6371 | Time: 5.9145\n",
      "17:11:31 : Epoch: 0002 | Step: 0250 / 342 | Loss: 0.6308 | Time: 7.4286\n",
      "17:11:32 : Epoch: 0002 | Step: 0300 / 342 | Loss: 0.6246 | Time: 9.0762\n"
     ]
    },
    {
     "name": "stderr",
     "output_type": "stream",
     "text": [
      "4it [00:00, 21.81it/s]"
     ]
    },
    {
     "name": "stdout",
     "output_type": "stream",
     "text": [
      "17:11:34 : Epoch: 0002 | Step: 0342 / 342 | Loss: 0.6202 | Time: 10.3401\n"
     ]
    },
    {
     "name": "stderr",
     "output_type": "stream",
     "text": [
      "74it [00:03, 21.65it/s]\n"
     ]
    },
    {
     "name": "stdout",
     "output_type": "stream",
     "text": [
      "17:11:37 : Current AUC: 0.756211, Best AUC: 0.756211\n",
      "\n",
      "Current lr : 0.0032\n",
      "17:11:39 : Epoch: 0003 | Step: 0050 / 342 | Loss: 0.5764 | Time: 1.5599\n",
      "17:11:40 : Epoch: 0003 | Step: 0100 / 342 | Loss: 0.5758 | Time: 2.9279\n",
      "17:11:42 : Epoch: 0003 | Step: 0150 / 342 | Loss: 0.5741 | Time: 4.4092\n",
      "17:11:43 : Epoch: 0003 | Step: 0200 / 342 | Loss: 0.5733 | Time: 5.8131\n",
      "17:11:45 : Epoch: 0003 | Step: 0250 / 342 | Loss: 0.5720 | Time: 7.5119\n",
      "17:11:46 : Epoch: 0003 | Step: 0300 / 342 | Loss: 0.5707 | Time: 9.0284\n"
     ]
    },
    {
     "name": "stderr",
     "output_type": "stream",
     "text": [
      "4it [00:00, 31.19it/s]"
     ]
    },
    {
     "name": "stdout",
     "output_type": "stream",
     "text": [
      "17:11:47 : Epoch: 0003 | Step: 0342 / 342 | Loss: 0.5696 | Time: 10.2729\n"
     ]
    },
    {
     "name": "stderr",
     "output_type": "stream",
     "text": [
      "74it [00:03, 22.13it/s]\n"
     ]
    },
    {
     "name": "stdout",
     "output_type": "stream",
     "text": [
      "17:11:51 : Current AUC: 0.776507, Best AUC: 0.776507\n",
      "\n",
      "Current lr : 0.00256\n",
      "17:11:53 : Epoch: 0004 | Step: 0050 / 342 | Loss: 0.5542 | Time: 1.5106\n",
      "17:11:54 : Epoch: 0004 | Step: 0100 / 342 | Loss: 0.5541 | Time: 2.9152\n",
      "17:11:55 : Epoch: 0004 | Step: 0150 / 342 | Loss: 0.5544 | Time: 4.3652\n",
      "17:11:57 : Epoch: 0004 | Step: 0200 / 342 | Loss: 0.5541 | Time: 5.7845\n",
      "17:11:58 : Epoch: 0004 | Step: 0250 / 342 | Loss: 0.5538 | Time: 7.3975\n",
      "17:12:00 : Epoch: 0004 | Step: 0300 / 342 | Loss: 0.5530 | Time: 8.8418\n"
     ]
    },
    {
     "name": "stderr",
     "output_type": "stream",
     "text": [
      "2it [00:00, 16.79it/s]"
     ]
    },
    {
     "name": "stdout",
     "output_type": "stream",
     "text": [
      "17:12:01 : Epoch: 0004 | Step: 0342 / 342 | Loss: 0.5530 | Time: 10.0135\n"
     ]
    },
    {
     "name": "stderr",
     "output_type": "stream",
     "text": [
      "74it [00:03, 22.43it/s]\n"
     ]
    },
    {
     "name": "stdout",
     "output_type": "stream",
     "text": [
      "17:12:05 : Current AUC: 0.783380, Best AUC: 0.783380\n",
      "\n",
      "Current lr : 0.0020480000000000003\n",
      "17:12:06 : Epoch: 0005 | Step: 0050 / 342 | Loss: 0.5408 | Time: 1.5727\n",
      "17:12:08 : Epoch: 0005 | Step: 0100 / 342 | Loss: 0.5415 | Time: 3.0432\n",
      "17:12:09 : Epoch: 0005 | Step: 0150 / 342 | Loss: 0.5439 | Time: 4.4956\n",
      "17:12:11 : Epoch: 0005 | Step: 0200 / 342 | Loss: 0.5443 | Time: 5.9050\n",
      "17:12:12 : Epoch: 0005 | Step: 0250 / 342 | Loss: 0.5448 | Time: 7.4295\n",
      "17:12:14 : Epoch: 0005 | Step: 0300 / 342 | Loss: 0.5452 | Time: 9.1248\n"
     ]
    },
    {
     "name": "stderr",
     "output_type": "stream",
     "text": [
      "4it [00:00, 22.06it/s]"
     ]
    },
    {
     "name": "stdout",
     "output_type": "stream",
     "text": [
      "17:12:15 : Epoch: 0005 | Step: 0342 / 342 | Loss: 0.5457 | Time: 10.2903\n"
     ]
    },
    {
     "name": "stderr",
     "output_type": "stream",
     "text": [
      "74it [00:03, 23.57it/s]\n"
     ]
    },
    {
     "name": "stdout",
     "output_type": "stream",
     "text": [
      "17:12:18 : Current AUC: 0.785988, Best AUC: 0.785988\n",
      "\n",
      "Current lr : 0.0016384000000000004\n",
      "17:12:20 : Epoch: 0006 | Step: 0050 / 342 | Loss: 0.5388 | Time: 1.4792\n",
      "17:12:21 : Epoch: 0006 | Step: 0100 / 342 | Loss: 0.5388 | Time: 2.8578\n",
      "17:12:23 : Epoch: 0006 | Step: 0150 / 342 | Loss: 0.5390 | Time: 4.3359\n",
      "17:12:24 : Epoch: 0006 | Step: 0200 / 342 | Loss: 0.5398 | Time: 5.7720\n",
      "17:12:26 : Epoch: 0006 | Step: 0250 / 342 | Loss: 0.5403 | Time: 7.2290\n",
      "17:12:27 : Epoch: 0006 | Step: 0300 / 342 | Loss: 0.5407 | Time: 8.6733\n"
     ]
    },
    {
     "name": "stderr",
     "output_type": "stream",
     "text": [
      "2it [00:00, 17.26it/s]"
     ]
    },
    {
     "name": "stdout",
     "output_type": "stream",
     "text": [
      "17:12:28 : Epoch: 0006 | Step: 0342 / 342 | Loss: 0.5408 | Time: 9.9017\n"
     ]
    },
    {
     "name": "stderr",
     "output_type": "stream",
     "text": [
      "74it [00:03, 22.54it/s]\n"
     ]
    },
    {
     "name": "stdout",
     "output_type": "stream",
     "text": [
      "17:12:32 : Current AUC: 0.788031, Best AUC: 0.788031\n",
      "\n",
      "Current lr : 0.0013107200000000005\n",
      "17:12:33 : Epoch: 0007 | Step: 0050 / 342 | Loss: 0.5309 | Time: 1.4543\n",
      "17:12:35 : Epoch: 0007 | Step: 0100 / 342 | Loss: 0.5323 | Time: 2.8619\n",
      "17:12:36 : Epoch: 0007 | Step: 0150 / 342 | Loss: 0.5344 | Time: 4.2635\n",
      "17:12:37 : Epoch: 0007 | Step: 0200 / 342 | Loss: 0.5350 | Time: 5.6987\n",
      "17:12:39 : Epoch: 0007 | Step: 0250 / 342 | Loss: 0.5358 | Time: 7.1438\n",
      "17:12:40 : Epoch: 0007 | Step: 0300 / 342 | Loss: 0.5358 | Time: 8.7466\n"
     ]
    },
    {
     "name": "stderr",
     "output_type": "stream",
     "text": [
      "2it [00:00, 16.52it/s]"
     ]
    },
    {
     "name": "stdout",
     "output_type": "stream",
     "text": [
      "17:12:42 : Epoch: 0007 | Step: 0342 / 342 | Loss: 0.5359 | Time: 10.0181\n"
     ]
    },
    {
     "name": "stderr",
     "output_type": "stream",
     "text": [
      "74it [00:03, 22.48it/s]\n"
     ]
    },
    {
     "name": "stdout",
     "output_type": "stream",
     "text": [
      "17:12:45 : Current AUC: 0.790265, Best AUC: 0.790265\n",
      "\n",
      "Current lr : 0.0010485760000000005\n",
      "17:12:47 : Epoch: 0008 | Step: 0050 / 342 | Loss: 0.5282 | Time: 1.4545\n",
      "17:12:48 : Epoch: 0008 | Step: 0100 / 342 | Loss: 0.5278 | Time: 2.8209\n",
      "17:12:50 : Epoch: 0008 | Step: 0150 / 342 | Loss: 0.5290 | Time: 4.2642\n",
      "17:12:51 : Epoch: 0008 | Step: 0200 / 342 | Loss: 0.5293 | Time: 5.6498\n",
      "17:12:52 : Epoch: 0008 | Step: 0250 / 342 | Loss: 0.5295 | Time: 7.0526\n",
      "17:12:54 : Epoch: 0008 | Step: 0300 / 342 | Loss: 0.5298 | Time: 8.5156\n"
     ]
    },
    {
     "name": "stderr",
     "output_type": "stream",
     "text": [
      "3it [00:00, 27.15it/s]"
     ]
    },
    {
     "name": "stdout",
     "output_type": "stream",
     "text": [
      "17:12:55 : Epoch: 0008 | Step: 0342 / 342 | Loss: 0.5302 | Time: 9.7773\n"
     ]
    },
    {
     "name": "stderr",
     "output_type": "stream",
     "text": [
      "74it [00:03, 21.95it/s]\n"
     ]
    },
    {
     "name": "stdout",
     "output_type": "stream",
     "text": [
      "17:12:59 : Current AUC: 0.792992, Best AUC: 0.792992\n",
      "\n",
      "Current lr : 0.0008388608000000005\n",
      "17:13:00 : Epoch: 0009 | Step: 0050 / 342 | Loss: 0.5210 | Time: 1.5146\n",
      "17:13:02 : Epoch: 0009 | Step: 0100 / 342 | Loss: 0.5224 | Time: 2.8994\n",
      "17:13:03 : Epoch: 0009 | Step: 0150 / 342 | Loss: 0.5228 | Time: 4.3148\n",
      "17:13:04 : Epoch: 0009 | Step: 0200 / 342 | Loss: 0.5234 | Time: 5.8270\n",
      "17:13:06 : Epoch: 0009 | Step: 0250 / 342 | Loss: 0.5236 | Time: 7.3557\n",
      "17:13:07 : Epoch: 0009 | Step: 0300 / 342 | Loss: 0.5244 | Time: 8.7343\n"
     ]
    },
    {
     "name": "stderr",
     "output_type": "stream",
     "text": [
      "4it [00:00, 31.50it/s]"
     ]
    },
    {
     "name": "stdout",
     "output_type": "stream",
     "text": [
      "17:13:09 : Epoch: 0009 | Step: 0342 / 342 | Loss: 0.5244 | Time: 9.9797\n"
     ]
    },
    {
     "name": "stderr",
     "output_type": "stream",
     "text": [
      "74it [00:03, 23.88it/s]\n"
     ]
    },
    {
     "name": "stdout",
     "output_type": "stream",
     "text": [
      "17:13:12 : Current AUC: 0.794440, Best AUC: 0.794440\n",
      "\n",
      "Current lr : 0.0006710886400000004\n",
      "17:13:13 : Epoch: 0010 | Step: 0050 / 342 | Loss: 0.5141 | Time: 1.4571\n",
      "17:13:15 : Epoch: 0010 | Step: 0100 / 342 | Loss: 0.5155 | Time: 2.9401\n",
      "17:13:16 : Epoch: 0010 | Step: 0150 / 342 | Loss: 0.5169 | Time: 4.3594\n",
      "17:13:18 : Epoch: 0010 | Step: 0200 / 342 | Loss: 0.5176 | Time: 5.7989\n",
      "17:13:19 : Epoch: 0010 | Step: 0250 / 342 | Loss: 0.5181 | Time: 7.3531\n",
      "17:13:21 : Epoch: 0010 | Step: 0300 / 342 | Loss: 0.5191 | Time: 8.7433\n"
     ]
    },
    {
     "name": "stderr",
     "output_type": "stream",
     "text": [
      "2it [00:00, 16.85it/s]"
     ]
    },
    {
     "name": "stdout",
     "output_type": "stream",
     "text": [
      "17:13:22 : Epoch: 0010 | Step: 0342 / 342 | Loss: 0.5193 | Time: 9.9653\n"
     ]
    },
    {
     "name": "stderr",
     "output_type": "stream",
     "text": [
      "74it [00:03, 23.23it/s]\n"
     ]
    },
    {
     "name": "stdout",
     "output_type": "stream",
     "text": [
      "17:13:25 : Current AUC: 0.796532, Best AUC: 0.796532\n",
      "\n",
      "Current lr : 0.0005368709120000003\n",
      "17:13:27 : Epoch: 0011 | Step: 0050 / 342 | Loss: 0.5119 | Time: 1.4892\n",
      "17:13:28 : Epoch: 0011 | Step: 0100 / 342 | Loss: 0.5117 | Time: 2.8523\n",
      "17:13:30 : Epoch: 0011 | Step: 0150 / 342 | Loss: 0.5127 | Time: 4.2195\n",
      "17:13:31 : Epoch: 0011 | Step: 0200 / 342 | Loss: 0.5140 | Time: 5.5826\n",
      "17:13:32 : Epoch: 0011 | Step: 0250 / 342 | Loss: 0.5142 | Time: 6.9649\n",
      "17:13:34 : Epoch: 0011 | Step: 0300 / 342 | Loss: 0.5146 | Time: 8.5486\n"
     ]
    },
    {
     "name": "stderr",
     "output_type": "stream",
     "text": [
      "4it [00:00, 31.49it/s]"
     ]
    },
    {
     "name": "stdout",
     "output_type": "stream",
     "text": [
      "17:13:35 : Epoch: 0011 | Step: 0342 / 342 | Loss: 0.5147 | Time: 9.9115\n"
     ]
    },
    {
     "name": "stderr",
     "output_type": "stream",
     "text": [
      "74it [00:03, 23.21it/s]\n"
     ]
    },
    {
     "name": "stdout",
     "output_type": "stream",
     "text": [
      "17:13:39 : Current AUC: 0.796789, Best AUC: 0.796789\n",
      "\n",
      "Current lr : 0.0004294967296000003\n",
      "17:13:40 : Epoch: 0012 | Step: 0050 / 342 | Loss: 0.5051 | Time: 1.6653\n",
      "17:13:42 : Epoch: 0012 | Step: 0100 / 342 | Loss: 0.5072 | Time: 3.1297\n",
      "17:13:43 : Epoch: 0012 | Step: 0150 / 342 | Loss: 0.5076 | Time: 4.5039\n",
      "17:13:45 : Epoch: 0012 | Step: 0200 / 342 | Loss: 0.5086 | Time: 5.9030\n",
      "17:13:46 : Epoch: 0012 | Step: 0250 / 342 | Loss: 0.5097 | Time: 7.2866\n",
      "17:13:47 : Epoch: 0012 | Step: 0300 / 342 | Loss: 0.5100 | Time: 8.6535\n"
     ]
    },
    {
     "name": "stderr",
     "output_type": "stream",
     "text": [
      "2it [00:00, 16.75it/s]"
     ]
    },
    {
     "name": "stdout",
     "output_type": "stream",
     "text": [
      "17:13:48 : Epoch: 0012 | Step: 0342 / 342 | Loss: 0.5104 | Time: 9.7836\n"
     ]
    },
    {
     "name": "stderr",
     "output_type": "stream",
     "text": [
      "74it [00:03, 23.39it/s]\n"
     ]
    },
    {
     "name": "stdout",
     "output_type": "stream",
     "text": [
      "17:13:52 : Current AUC: 0.797074, Best AUC: 0.797074\n",
      "\n",
      "Current lr : 0.00034359738368000027\n",
      "17:13:53 : Epoch: 0013 | Step: 0050 / 342 | Loss: 0.5016 | Time: 1.4587\n",
      "17:13:55 : Epoch: 0013 | Step: 0100 / 342 | Loss: 0.5036 | Time: 2.8409\n",
      "17:13:56 : Epoch: 0013 | Step: 0150 / 342 | Loss: 0.5043 | Time: 4.3008\n",
      "17:13:58 : Epoch: 0013 | Step: 0200 / 342 | Loss: 0.5051 | Time: 5.6780\n",
      "17:13:59 : Epoch: 0013 | Step: 0250 / 342 | Loss: 0.5054 | Time: 7.1661\n",
      "17:14:01 : Epoch: 0013 | Step: 0300 / 342 | Loss: 0.5060 | Time: 8.7255\n"
     ]
    },
    {
     "name": "stderr",
     "output_type": "stream",
     "text": [
      "3it [00:00, 18.79it/s]"
     ]
    },
    {
     "name": "stdout",
     "output_type": "stream",
     "text": [
      "17:14:02 : Epoch: 0013 | Step: 0342 / 342 | Loss: 0.5067 | Time: 9.9534\n"
     ]
    },
    {
     "name": "stderr",
     "output_type": "stream",
     "text": [
      "74it [00:03, 21.27it/s]\n"
     ]
    },
    {
     "name": "stdout",
     "output_type": "stream",
     "text": [
      "17:14:06 : Current AUC: 0.797535, Best AUC: 0.797535\n",
      "\n",
      "Current lr : 0.00027487790694400024\n",
      "17:14:07 : Epoch: 0014 | Step: 0050 / 342 | Loss: 0.5004 | Time: 1.6466\n",
      "17:14:09 : Epoch: 0014 | Step: 0100 / 342 | Loss: 0.5010 | Time: 3.1486\n",
      "17:14:10 : Epoch: 0014 | Step: 0150 / 342 | Loss: 0.5005 | Time: 4.5751\n",
      "17:14:12 : Epoch: 0014 | Step: 0200 / 342 | Loss: 0.5011 | Time: 6.0794\n",
      "17:14:13 : Epoch: 0014 | Step: 0250 / 342 | Loss: 0.5022 | Time: 7.5042\n",
      "17:14:14 : Epoch: 0014 | Step: 0300 / 342 | Loss: 0.5032 | Time: 8.9042\n"
     ]
    },
    {
     "name": "stderr",
     "output_type": "stream",
     "text": [
      "4it [00:00, 31.59it/s]"
     ]
    },
    {
     "name": "stdout",
     "output_type": "stream",
     "text": [
      "17:14:16 : Epoch: 0014 | Step: 0342 / 342 | Loss: 0.5037 | Time: 10.1442\n"
     ]
    },
    {
     "name": "stderr",
     "output_type": "stream",
     "text": [
      "74it [00:03, 24.40it/s]\n"
     ]
    },
    {
     "name": "stdout",
     "output_type": "stream",
     "text": [
      "17:14:19 : Current AUC: 0.797942, Best AUC: 0.797942\n",
      "\n",
      "Current lr : 0.0002199023255552002\n",
      "17:14:21 : Epoch: 0015 | Step: 0050 / 342 | Loss: 0.5004 | Time: 1.5605\n",
      "17:14:22 : Epoch: 0015 | Step: 0100 / 342 | Loss: 0.4993 | Time: 2.9612\n",
      "17:14:23 : Epoch: 0015 | Step: 0150 / 342 | Loss: 0.4995 | Time: 4.3252\n",
      "17:14:25 : Epoch: 0015 | Step: 0200 / 342 | Loss: 0.4996 | Time: 5.8107\n",
      "17:14:26 : Epoch: 0015 | Step: 0250 / 342 | Loss: 0.5004 | Time: 7.3834\n",
      "17:14:28 : Epoch: 0015 | Step: 0300 / 342 | Loss: 0.5008 | Time: 8.9355\n"
     ]
    },
    {
     "name": "stderr",
     "output_type": "stream",
     "text": [
      "2it [00:00, 16.23it/s]"
     ]
    },
    {
     "name": "stdout",
     "output_type": "stream",
     "text": [
      "17:14:29 : Epoch: 0015 | Step: 0342 / 342 | Loss: 0.5008 | Time: 10.1274\n"
     ]
    },
    {
     "name": "stderr",
     "output_type": "stream",
     "text": [
      "74it [00:03, 23.09it/s]\n"
     ]
    },
    {
     "name": "stdout",
     "output_type": "stream",
     "text": [
      "17:14:33 : Current AUC: 0.797903, Best AUC: 0.797942\n",
      "\n",
      "Current lr : 0.00017592186044416018\n",
      "17:14:34 : Epoch: 0016 | Step: 0050 / 342 | Loss: 0.4980 | Time: 1.4837\n",
      "17:14:36 : Epoch: 0016 | Step: 0100 / 342 | Loss: 0.4971 | Time: 2.9592\n",
      "17:14:37 : Epoch: 0016 | Step: 0150 / 342 | Loss: 0.4985 | Time: 4.3131\n",
      "17:14:38 : Epoch: 0016 | Step: 0200 / 342 | Loss: 0.4983 | Time: 5.7797\n",
      "17:14:40 : Epoch: 0016 | Step: 0250 / 342 | Loss: 0.4983 | Time: 7.1979\n",
      "17:14:41 : Epoch: 0016 | Step: 0300 / 342 | Loss: 0.4982 | Time: 8.5822\n"
     ]
    },
    {
     "name": "stderr",
     "output_type": "stream",
     "text": [
      "2it [00:00, 16.89it/s]"
     ]
    },
    {
     "name": "stdout",
     "output_type": "stream",
     "text": [
      "17:14:42 : Epoch: 0016 | Step: 0342 / 342 | Loss: 0.4984 | Time: 9.7235\n"
     ]
    },
    {
     "name": "stderr",
     "output_type": "stream",
     "text": [
      "74it [00:03, 22.25it/s]\n"
     ]
    },
    {
     "name": "stdout",
     "output_type": "stream",
     "text": [
      "17:14:46 : Current AUC: 0.797780, Best AUC: 0.797942\n",
      "\n",
      "Current lr : 0.00014073748835532815\n",
      "17:14:47 : Epoch: 0017 | Step: 0050 / 342 | Loss: 0.4961 | Time: 1.4876\n",
      "17:14:49 : Epoch: 0017 | Step: 0100 / 342 | Loss: 0.4952 | Time: 2.9563\n",
      "17:14:50 : Epoch: 0017 | Step: 0150 / 342 | Loss: 0.4955 | Time: 4.4477\n",
      "17:14:52 : Epoch: 0017 | Step: 0200 / 342 | Loss: 0.4954 | Time: 5.8124\n",
      "17:14:53 : Epoch: 0017 | Step: 0250 / 342 | Loss: 0.4959 | Time: 7.1755\n",
      "17:14:54 : Epoch: 0017 | Step: 0300 / 342 | Loss: 0.4964 | Time: 8.5424\n"
     ]
    },
    {
     "name": "stderr",
     "output_type": "stream",
     "text": [
      "4it [00:00, 21.98it/s]"
     ]
    },
    {
     "name": "stdout",
     "output_type": "stream",
     "text": [
      "17:14:56 : Epoch: 0017 | Step: 0342 / 342 | Loss: 0.4964 | Time: 9.7347\n"
     ]
    },
    {
     "name": "stderr",
     "output_type": "stream",
     "text": [
      "74it [00:03, 23.24it/s]\n"
     ]
    },
    {
     "name": "stdout",
     "output_type": "stream",
     "text": [
      "17:14:59 : Current AUC: 0.797746, Best AUC: 0.797942\n",
      "\n",
      "Current lr : 0.00011258999068426252\n",
      "17:15:00 : Epoch: 0018 | Step: 0050 / 342 | Loss: 0.4929 | Time: 1.5043\n",
      "17:15:02 : Epoch: 0018 | Step: 0100 / 342 | Loss: 0.4933 | Time: 2.8632\n",
      "17:15:03 : Epoch: 0018 | Step: 0150 / 342 | Loss: 0.4940 | Time: 4.2164\n",
      "17:15:05 : Epoch: 0018 | Step: 0200 / 342 | Loss: 0.4941 | Time: 5.6601\n",
      "17:15:06 : Epoch: 0018 | Step: 0250 / 342 | Loss: 0.4944 | Time: 7.0880\n",
      "17:15:08 : Epoch: 0018 | Step: 0300 / 342 | Loss: 0.4947 | Time: 8.7798\n"
     ]
    },
    {
     "name": "stderr",
     "output_type": "stream",
     "text": [
      "4it [00:00, 31.41it/s]"
     ]
    },
    {
     "name": "stdout",
     "output_type": "stream",
     "text": [
      "17:15:09 : Epoch: 0018 | Step: 0342 / 342 | Loss: 0.4949 | Time: 10.0012\n"
     ]
    },
    {
     "name": "stderr",
     "output_type": "stream",
     "text": [
      "74it [00:03, 23.92it/s]\n"
     ]
    },
    {
     "name": "stdout",
     "output_type": "stream",
     "text": [
      "17:15:12 : Current AUC: 0.797720, Best AUC: 0.797942\n",
      "\n",
      "Current lr : 9.007199254741002e-05\n",
      "17:15:14 : Epoch: 0019 | Step: 0050 / 342 | Loss: 0.4924 | Time: 1.5531\n",
      "17:15:15 : Epoch: 0019 | Step: 0100 / 342 | Loss: 0.4917 | Time: 2.9556\n",
      "17:15:17 : Epoch: 0019 | Step: 0150 / 342 | Loss: 0.4927 | Time: 4.5675\n",
      "17:15:18 : Epoch: 0019 | Step: 0200 / 342 | Loss: 0.4930 | Time: 6.0888\n",
      "17:15:20 : Epoch: 0019 | Step: 0250 / 342 | Loss: 0.4933 | Time: 7.6280\n",
      "17:15:21 : Epoch: 0019 | Step: 0300 / 342 | Loss: 0.4929 | Time: 9.1051\n"
     ]
    },
    {
     "name": "stderr",
     "output_type": "stream",
     "text": [
      "2it [00:00, 12.64it/s]"
     ]
    },
    {
     "name": "stdout",
     "output_type": "stream",
     "text": [
      "17:15:23 : Epoch: 0019 | Step: 0342 / 342 | Loss: 0.4935 | Time: 10.2725\n"
     ]
    },
    {
     "name": "stderr",
     "output_type": "stream",
     "text": [
      "74it [00:03, 20.45it/s]\n"
     ]
    },
    {
     "name": "stdout",
     "output_type": "stream",
     "text": [
      "17:15:26 : Current AUC: 0.797452, Best AUC: 0.797942\n",
      "\n",
      "Current lr : 7.205759403792802e-05\n",
      "17:15:28 : Epoch: 0020 | Step: 0050 / 342 | Loss: 0.4937 | Time: 1.7433\n",
      "17:15:30 : Epoch: 0020 | Step: 0100 / 342 | Loss: 0.4919 | Time: 3.1297\n",
      "17:15:31 : Epoch: 0020 | Step: 0150 / 342 | Loss: 0.4920 | Time: 4.6006\n",
      "17:15:32 : Epoch: 0020 | Step: 0200 / 342 | Loss: 0.4927 | Time: 5.9756\n",
      "17:15:34 : Epoch: 0020 | Step: 0250 / 342 | Loss: 0.4923 | Time: 7.4192\n",
      "17:15:35 : Epoch: 0020 | Step: 0300 / 342 | Loss: 0.4927 | Time: 8.9545\n"
     ]
    },
    {
     "name": "stderr",
     "output_type": "stream",
     "text": [
      "3it [00:00, 22.57it/s]"
     ]
    },
    {
     "name": "stdout",
     "output_type": "stream",
     "text": [
      "17:15:37 : Epoch: 0020 | Step: 0342 / 342 | Loss: 0.4925 | Time: 10.3329\n"
     ]
    },
    {
     "name": "stderr",
     "output_type": "stream",
     "text": [
      "74it [00:03, 22.11it/s]\n"
     ]
    },
    {
     "name": "stdout",
     "output_type": "stream",
     "text": [
      "17:15:40 : Current AUC: 0.797575, Best AUC: 0.797942\n",
      "\n",
      "Current lr : 5.764607523034242e-05\n",
      "17:15:42 : Epoch: 0021 | Step: 0050 / 342 | Loss: 0.4904 | Time: 1.5632\n",
      "17:15:43 : Epoch: 0021 | Step: 0100 / 342 | Loss: 0.4901 | Time: 2.9964\n",
      "17:15:45 : Epoch: 0021 | Step: 0150 / 342 | Loss: 0.4903 | Time: 4.3670\n",
      "17:15:46 : Epoch: 0021 | Step: 0200 / 342 | Loss: 0.4904 | Time: 5.9966\n",
      "17:15:48 : Epoch: 0021 | Step: 0250 / 342 | Loss: 0.4909 | Time: 7.5015\n",
      "17:15:49 : Epoch: 0021 | Step: 0300 / 342 | Loss: 0.4916 | Time: 9.1034\n"
     ]
    },
    {
     "name": "stderr",
     "output_type": "stream",
     "text": [
      "2it [00:00, 17.22it/s]"
     ]
    },
    {
     "name": "stdout",
     "output_type": "stream",
     "text": [
      "17:15:51 : Epoch: 0021 | Step: 0342 / 342 | Loss: 0.4916 | Time: 10.3048\n"
     ]
    },
    {
     "name": "stderr",
     "output_type": "stream",
     "text": [
      "74it [00:03, 21.58it/s]\n"
     ]
    },
    {
     "name": "stdout",
     "output_type": "stream",
     "text": [
      "17:15:54 : Current AUC: 0.797466, Best AUC: 0.797942\n",
      "\n",
      "Current lr : 4.611686018427394e-05\n",
      "17:15:56 : Epoch: 0022 | Step: 0050 / 342 | Loss: 0.4885 | Time: 1.5557\n",
      "17:15:57 : Epoch: 0022 | Step: 0100 / 342 | Loss: 0.4895 | Time: 2.9825\n",
      "17:15:59 : Epoch: 0022 | Step: 0150 / 342 | Loss: 0.4905 | Time: 4.3853\n",
      "17:16:00 : Epoch: 0022 | Step: 0200 / 342 | Loss: 0.4898 | Time: 5.8459\n",
      "17:16:02 : Epoch: 0022 | Step: 0250 / 342 | Loss: 0.4902 | Time: 7.3389\n"
     ]
    },
    {
     "ename": "KeyboardInterrupt",
     "evalue": "",
     "output_type": "error",
     "traceback": [
      "\u001b[0;31m---------------------------------------------------------------------------\u001b[0m",
      "\u001b[0;31mKeyboardInterrupt\u001b[0m                         Traceback (most recent call last)",
      "\u001b[0;32m<ipython-input-16-bdac2257fc77>\u001b[0m in \u001b[0;36m<module>\u001b[0;34m\u001b[0m\n\u001b[0;32m----> 1\u001b[0;31m \u001b[0mtrain_and_test\u001b[0m\u001b[0;34m(\u001b[0m\u001b[0mmodel\u001b[0m\u001b[0;34m,\u001b[0m \u001b[0mtrain_loader\u001b[0m\u001b[0;34m,\u001b[0m \u001b[0mtest_loader\u001b[0m\u001b[0;34m,\u001b[0m \u001b[0;36m30\u001b[0m\u001b[0;34m,\u001b[0m \u001b[0mdevice\u001b[0m\u001b[0;34m)\u001b[0m\u001b[0;34m\u001b[0m\u001b[0;34m\u001b[0m\u001b[0m\n\u001b[0m",
      "\u001b[0;32m<ipython-input-14-e40b888e9d20>\u001b[0m in \u001b[0;36mtrain_and_test\u001b[0;34m(model, train_loader, test_loader, epochs, device)\u001b[0m\n\u001b[1;32m      7\u001b[0m         \u001b[0mtrain_loss_sum\u001b[0m \u001b[0;34m=\u001b[0m \u001b[0;36m0.0\u001b[0m\u001b[0;34m\u001b[0m\u001b[0;34m\u001b[0m\u001b[0m\n\u001b[1;32m      8\u001b[0m         \u001b[0mstart_time\u001b[0m \u001b[0;34m=\u001b[0m \u001b[0mtime\u001b[0m\u001b[0;34m.\u001b[0m\u001b[0mtime\u001b[0m\u001b[0;34m(\u001b[0m\u001b[0;34m)\u001b[0m\u001b[0;34m\u001b[0m\u001b[0;34m\u001b[0m\u001b[0m\n\u001b[0;32m----> 9\u001b[0;31m         \u001b[0;32mfor\u001b[0m \u001b[0midx\u001b[0m\u001b[0;34m,\u001b[0m \u001b[0mx\u001b[0m \u001b[0;32min\u001b[0m \u001b[0menumerate\u001b[0m\u001b[0;34m(\u001b[0m\u001b[0mtrain_loader\u001b[0m\u001b[0;34m)\u001b[0m\u001b[0;34m:\u001b[0m\u001b[0;34m\u001b[0m\u001b[0;34m\u001b[0m\u001b[0m\n\u001b[0m\u001b[1;32m     10\u001b[0m             \u001b[0mfeatures\u001b[0m\u001b[0;34m,\u001b[0m \u001b[0mlabel\u001b[0m \u001b[0;34m=\u001b[0m \u001b[0mx\u001b[0m\u001b[0;34m[\u001b[0m\u001b[0;36m0\u001b[0m\u001b[0;34m]\u001b[0m\u001b[0;34m,\u001b[0m \u001b[0mx\u001b[0m\u001b[0;34m[\u001b[0m\u001b[0;36m1\u001b[0m\u001b[0;34m]\u001b[0m\u001b[0;34m\u001b[0m\u001b[0;34m\u001b[0m\u001b[0m\n\u001b[1;32m     11\u001b[0m             \u001b[0mfeatures\u001b[0m\u001b[0;34m,\u001b[0m \u001b[0mlabel\u001b[0m \u001b[0;34m=\u001b[0m \u001b[0mfeatures\u001b[0m\u001b[0;34m.\u001b[0m\u001b[0mto\u001b[0m\u001b[0;34m(\u001b[0m\u001b[0mdevice\u001b[0m\u001b[0;34m)\u001b[0m\u001b[0;34m,\u001b[0m \u001b[0mlabel\u001b[0m\u001b[0;34m.\u001b[0m\u001b[0mfloat\u001b[0m\u001b[0;34m(\u001b[0m\u001b[0;34m)\u001b[0m\u001b[0;34m.\u001b[0m\u001b[0mto\u001b[0m\u001b[0;34m(\u001b[0m\u001b[0mdevice\u001b[0m\u001b[0;34m)\u001b[0m\u001b[0;34m\u001b[0m\u001b[0;34m\u001b[0m\u001b[0m\n",
      "\u001b[0;32m~/miniconda3/envs/deep-ctr/lib/python3.6/site-packages/torch/utils/data/dataloader.py\u001b[0m in \u001b[0;36m__next__\u001b[0;34m(self)\u001b[0m\n\u001b[1;32m    519\u001b[0m             \u001b[0;32mif\u001b[0m \u001b[0mself\u001b[0m\u001b[0;34m.\u001b[0m\u001b[0m_sampler_iter\u001b[0m \u001b[0;32mis\u001b[0m \u001b[0;32mNone\u001b[0m\u001b[0;34m:\u001b[0m\u001b[0;34m\u001b[0m\u001b[0;34m\u001b[0m\u001b[0m\n\u001b[1;32m    520\u001b[0m                 \u001b[0mself\u001b[0m\u001b[0;34m.\u001b[0m\u001b[0m_reset\u001b[0m\u001b[0;34m(\u001b[0m\u001b[0;34m)\u001b[0m\u001b[0;34m\u001b[0m\u001b[0;34m\u001b[0m\u001b[0m\n\u001b[0;32m--> 521\u001b[0;31m             \u001b[0mdata\u001b[0m \u001b[0;34m=\u001b[0m \u001b[0mself\u001b[0m\u001b[0;34m.\u001b[0m\u001b[0m_next_data\u001b[0m\u001b[0;34m(\u001b[0m\u001b[0;34m)\u001b[0m\u001b[0;34m\u001b[0m\u001b[0;34m\u001b[0m\u001b[0m\n\u001b[0m\u001b[1;32m    522\u001b[0m             \u001b[0mself\u001b[0m\u001b[0;34m.\u001b[0m\u001b[0m_num_yielded\u001b[0m \u001b[0;34m+=\u001b[0m \u001b[0;36m1\u001b[0m\u001b[0;34m\u001b[0m\u001b[0;34m\u001b[0m\u001b[0m\n\u001b[1;32m    523\u001b[0m             \u001b[0;32mif\u001b[0m \u001b[0mself\u001b[0m\u001b[0;34m.\u001b[0m\u001b[0m_dataset_kind\u001b[0m \u001b[0;34m==\u001b[0m \u001b[0m_DatasetKind\u001b[0m\u001b[0;34m.\u001b[0m\u001b[0mIterable\u001b[0m \u001b[0;32mand\u001b[0m\u001b[0;31m \u001b[0m\u001b[0;31m\\\u001b[0m\u001b[0;34m\u001b[0m\u001b[0;34m\u001b[0m\u001b[0m\n",
      "\u001b[0;32m~/miniconda3/envs/deep-ctr/lib/python3.6/site-packages/torch/utils/data/dataloader.py\u001b[0m in \u001b[0;36m_next_data\u001b[0;34m(self)\u001b[0m\n\u001b[1;32m    559\u001b[0m     \u001b[0;32mdef\u001b[0m \u001b[0m_next_data\u001b[0m\u001b[0;34m(\u001b[0m\u001b[0mself\u001b[0m\u001b[0;34m)\u001b[0m\u001b[0;34m:\u001b[0m\u001b[0;34m\u001b[0m\u001b[0;34m\u001b[0m\u001b[0m\n\u001b[1;32m    560\u001b[0m         \u001b[0mindex\u001b[0m \u001b[0;34m=\u001b[0m \u001b[0mself\u001b[0m\u001b[0;34m.\u001b[0m\u001b[0m_next_index\u001b[0m\u001b[0;34m(\u001b[0m\u001b[0;34m)\u001b[0m  \u001b[0;31m# may raise StopIteration\u001b[0m\u001b[0;34m\u001b[0m\u001b[0;34m\u001b[0m\u001b[0m\n\u001b[0;32m--> 561\u001b[0;31m         \u001b[0mdata\u001b[0m \u001b[0;34m=\u001b[0m \u001b[0mself\u001b[0m\u001b[0;34m.\u001b[0m\u001b[0m_dataset_fetcher\u001b[0m\u001b[0;34m.\u001b[0m\u001b[0mfetch\u001b[0m\u001b[0;34m(\u001b[0m\u001b[0mindex\u001b[0m\u001b[0;34m)\u001b[0m  \u001b[0;31m# may raise StopIteration\u001b[0m\u001b[0;34m\u001b[0m\u001b[0;34m\u001b[0m\u001b[0m\n\u001b[0m\u001b[1;32m    562\u001b[0m         \u001b[0;32mif\u001b[0m \u001b[0mself\u001b[0m\u001b[0;34m.\u001b[0m\u001b[0m_pin_memory\u001b[0m\u001b[0;34m:\u001b[0m\u001b[0;34m\u001b[0m\u001b[0;34m\u001b[0m\u001b[0m\n\u001b[1;32m    563\u001b[0m             \u001b[0mdata\u001b[0m \u001b[0;34m=\u001b[0m \u001b[0m_utils\u001b[0m\u001b[0;34m.\u001b[0m\u001b[0mpin_memory\u001b[0m\u001b[0;34m.\u001b[0m\u001b[0mpin_memory\u001b[0m\u001b[0;34m(\u001b[0m\u001b[0mdata\u001b[0m\u001b[0;34m)\u001b[0m\u001b[0;34m\u001b[0m\u001b[0;34m\u001b[0m\u001b[0m\n",
      "\u001b[0;32m~/miniconda3/envs/deep-ctr/lib/python3.6/site-packages/torch/utils/data/_utils/fetch.py\u001b[0m in \u001b[0;36mfetch\u001b[0;34m(self, possibly_batched_index)\u001b[0m\n\u001b[1;32m     50\u001b[0m         \u001b[0;32melse\u001b[0m\u001b[0;34m:\u001b[0m\u001b[0;34m\u001b[0m\u001b[0;34m\u001b[0m\u001b[0m\n\u001b[1;32m     51\u001b[0m             \u001b[0mdata\u001b[0m \u001b[0;34m=\u001b[0m \u001b[0mself\u001b[0m\u001b[0;34m.\u001b[0m\u001b[0mdataset\u001b[0m\u001b[0;34m[\u001b[0m\u001b[0mpossibly_batched_index\u001b[0m\u001b[0;34m]\u001b[0m\u001b[0;34m\u001b[0m\u001b[0;34m\u001b[0m\u001b[0m\n\u001b[0;32m---> 52\u001b[0;31m         \u001b[0;32mreturn\u001b[0m \u001b[0mself\u001b[0m\u001b[0;34m.\u001b[0m\u001b[0mcollate_fn\u001b[0m\u001b[0;34m(\u001b[0m\u001b[0mdata\u001b[0m\u001b[0;34m)\u001b[0m\u001b[0;34m\u001b[0m\u001b[0;34m\u001b[0m\u001b[0m\n\u001b[0m",
      "\u001b[0;32m~/miniconda3/envs/deep-ctr/lib/python3.6/site-packages/torch/utils/data/_utils/collate.py\u001b[0m in \u001b[0;36mdefault_collate\u001b[0;34m(batch)\u001b[0m\n\u001b[1;32m     81\u001b[0m         \u001b[0;32mif\u001b[0m \u001b[0;32mnot\u001b[0m \u001b[0mall\u001b[0m\u001b[0;34m(\u001b[0m\u001b[0mlen\u001b[0m\u001b[0;34m(\u001b[0m\u001b[0melem\u001b[0m\u001b[0;34m)\u001b[0m \u001b[0;34m==\u001b[0m \u001b[0melem_size\u001b[0m \u001b[0;32mfor\u001b[0m \u001b[0melem\u001b[0m \u001b[0;32min\u001b[0m \u001b[0mit\u001b[0m\u001b[0;34m)\u001b[0m\u001b[0;34m:\u001b[0m\u001b[0;34m\u001b[0m\u001b[0;34m\u001b[0m\u001b[0m\n\u001b[1;32m     82\u001b[0m             \u001b[0;32mraise\u001b[0m \u001b[0mRuntimeError\u001b[0m\u001b[0;34m(\u001b[0m\u001b[0;34m'each element in list of batch should be of equal size'\u001b[0m\u001b[0;34m)\u001b[0m\u001b[0;34m\u001b[0m\u001b[0;34m\u001b[0m\u001b[0m\n\u001b[0;32m---> 83\u001b[0;31m         \u001b[0mtransposed\u001b[0m \u001b[0;34m=\u001b[0m \u001b[0mzip\u001b[0m\u001b[0;34m(\u001b[0m\u001b[0;34m*\u001b[0m\u001b[0mbatch\u001b[0m\u001b[0;34m)\u001b[0m\u001b[0;34m\u001b[0m\u001b[0;34m\u001b[0m\u001b[0m\n\u001b[0m\u001b[1;32m     84\u001b[0m         \u001b[0;32mreturn\u001b[0m \u001b[0;34m[\u001b[0m\u001b[0mdefault_collate\u001b[0m\u001b[0;34m(\u001b[0m\u001b[0msamples\u001b[0m\u001b[0;34m)\u001b[0m \u001b[0;32mfor\u001b[0m \u001b[0msamples\u001b[0m \u001b[0;32min\u001b[0m \u001b[0mtransposed\u001b[0m\u001b[0;34m]\u001b[0m\u001b[0;34m\u001b[0m\u001b[0;34m\u001b[0m\u001b[0m\n\u001b[1;32m     85\u001b[0m \u001b[0;34m\u001b[0m\u001b[0m\n",
      "\u001b[0;31mKeyboardInterrupt\u001b[0m: "
     ]
    }
   ],
   "source": [
    "train_and_test(model, train_loader, test_loader, 30, device)"
   ]
  },
  {
   "cell_type": "code",
   "execution_count": null,
   "id": "de73ce8a-80f4-4fe5-9f75-3fc2fddd3b0e",
   "metadata": {},
   "outputs": [],
   "source": [
    "for col in feat_col:\n",
    "    print(col)\n",
    "    print(train[col].min())\n",
    "    print(train[col].max())"
   ]
  },
  {
   "cell_type": "code",
   "execution_count": null,
   "id": "fbb1d811-a653-4d5a-a66d-d5d28fd97557",
   "metadata": {},
   "outputs": [],
   "source": [
    "train[label_col].values.float()"
   ]
  },
  {
   "cell_type": "code",
   "execution_count": null,
   "id": "bbb547f7-6e2d-45a9-b531-090263842a16",
   "metadata": {},
   "outputs": [],
   "source": [
    "loss"
   ]
  },
  {
   "cell_type": "code",
   "execution_count": null,
   "id": "33ea3801-4644-4356-a46e-5e6ed3c0d675",
   "metadata": {},
   "outputs": [],
   "source": []
  }
 ],
 "metadata": {
  "kernelspec": {
   "display_name": "Python 3",
   "language": "python",
   "name": "python3"
  },
  "language_info": {
   "codemirror_mode": {
    "name": "ipython",
    "version": 3
   },
   "file_extension": ".py",
   "mimetype": "text/x-python",
   "name": "python",
   "nbconvert_exporter": "python",
   "pygments_lexer": "ipython3",
   "version": "3.6.12"
  }
 },
 "nbformat": 4,
 "nbformat_minor": 5
}
